{
  "nbformat": 4,
  "nbformat_minor": 0,
  "metadata": {
    "colab": {
      "provenance": [],
      "authorship_tag": "ABX9TyPi4C6zoxg5o1usqBqz49ib",
      "include_colab_link": true
    },
    "kernelspec": {
      "name": "python3",
      "display_name": "Python 3"
    },
    "language_info": {
      "name": "python"
    }
  },
  "cells": [
    {
      "cell_type": "markdown",
      "metadata": {
        "id": "view-in-github",
        "colab_type": "text"
      },
      "source": [
        "<a href=\"https://colab.research.google.com/github/Ujjwal10228/Implementation-of-IQGAN-Robust-Quantum-GAN-for-Image-Synthesis-in-NISQ-Devices/blob/main/IQGAN.ipynb\" target=\"_parent\"><img src=\"https://colab.research.google.com/assets/colab-badge.svg\" alt=\"Open In Colab\"/></a>"
      ]
    },
    {
      "cell_type": "code",
      "execution_count": null,
      "metadata": {
        "colab": {
          "base_uri": "https://localhost:8080/"
        },
        "id": "xwyWzU0M5XlG",
        "outputId": "090d110d-ba56-4e5a-87f6-657e3ef755e1"
      },
      "outputs": [
        {
          "output_type": "stream",
          "name": "stdout",
          "text": [
            "Requirement already satisfied: numpy in /usr/local/lib/python3.11/dist-packages (1.26.4)\n",
            "Requirement already satisfied: pandas in /usr/local/lib/python3.11/dist-packages (2.2.2)\n",
            "Requirement already satisfied: matplotlib in /usr/local/lib/python3.11/dist-packages (3.10.0)\n",
            "Requirement already satisfied: python-dateutil>=2.8.2 in /usr/local/lib/python3.11/dist-packages (from pandas) (2.8.2)\n",
            "Requirement already satisfied: pytz>=2020.1 in /usr/local/lib/python3.11/dist-packages (from pandas) (2025.1)\n",
            "Requirement already satisfied: tzdata>=2022.7 in /usr/local/lib/python3.11/dist-packages (from pandas) (2025.1)\n",
            "Requirement already satisfied: contourpy>=1.0.1 in /usr/local/lib/python3.11/dist-packages (from matplotlib) (1.3.1)\n",
            "Requirement already satisfied: cycler>=0.10 in /usr/local/lib/python3.11/dist-packages (from matplotlib) (0.12.1)\n",
            "Requirement already satisfied: fonttools>=4.22.0 in /usr/local/lib/python3.11/dist-packages (from matplotlib) (4.56.0)\n",
            "Requirement already satisfied: kiwisolver>=1.3.1 in /usr/local/lib/python3.11/dist-packages (from matplotlib) (1.4.8)\n",
            "Requirement already satisfied: packaging>=20.0 in /usr/local/lib/python3.11/dist-packages (from matplotlib) (24.2)\n",
            "Requirement already satisfied: pillow>=8 in /usr/local/lib/python3.11/dist-packages (from matplotlib) (11.1.0)\n",
            "Requirement already satisfied: pyparsing>=2.3.1 in /usr/local/lib/python3.11/dist-packages (from matplotlib) (3.2.1)\n",
            "Requirement already satisfied: six>=1.5 in /usr/local/lib/python3.11/dist-packages (from python-dateutil>=2.8.2->pandas) (1.17.0)\n"
          ]
        }
      ],
      "source": [
        "!pip install numpy pandas matplotlib"
      ]
    },
    {
      "cell_type": "code",
      "source": [
        "!pip install torch torchvision torchaudio"
      ],
      "metadata": {
        "colab": {
          "base_uri": "https://localhost:8080/"
        },
        "id": "nP3qMqhL5iP2",
        "outputId": "8fd7e7ca-d526-469c-895e-f56f2cdc6eb5"
      },
      "execution_count": null,
      "outputs": [
        {
          "output_type": "stream",
          "name": "stdout",
          "text": [
            "Requirement already satisfied: torch in /usr/local/lib/python3.11/dist-packages (2.5.1+cu124)\n",
            "Requirement already satisfied: torchvision in /usr/local/lib/python3.11/dist-packages (0.20.1+cu124)\n",
            "Requirement already satisfied: torchaudio in /usr/local/lib/python3.11/dist-packages (2.5.1+cu124)\n",
            "Requirement already satisfied: filelock in /usr/local/lib/python3.11/dist-packages (from torch) (3.17.0)\n",
            "Requirement already satisfied: typing-extensions>=4.8.0 in /usr/local/lib/python3.11/dist-packages (from torch) (4.12.2)\n",
            "Requirement already satisfied: networkx in /usr/local/lib/python3.11/dist-packages (from torch) (3.4.2)\n",
            "Requirement already satisfied: jinja2 in /usr/local/lib/python3.11/dist-packages (from torch) (3.1.5)\n",
            "Requirement already satisfied: fsspec in /usr/local/lib/python3.11/dist-packages (from torch) (2024.10.0)\n",
            "Collecting nvidia-cuda-nvrtc-cu12==12.4.127 (from torch)\n",
            "  Downloading nvidia_cuda_nvrtc_cu12-12.4.127-py3-none-manylinux2014_x86_64.whl.metadata (1.5 kB)\n",
            "Collecting nvidia-cuda-runtime-cu12==12.4.127 (from torch)\n",
            "  Downloading nvidia_cuda_runtime_cu12-12.4.127-py3-none-manylinux2014_x86_64.whl.metadata (1.5 kB)\n",
            "Collecting nvidia-cuda-cupti-cu12==12.4.127 (from torch)\n",
            "  Downloading nvidia_cuda_cupti_cu12-12.4.127-py3-none-manylinux2014_x86_64.whl.metadata (1.6 kB)\n",
            "Collecting nvidia-cudnn-cu12==9.1.0.70 (from torch)\n",
            "  Downloading nvidia_cudnn_cu12-9.1.0.70-py3-none-manylinux2014_x86_64.whl.metadata (1.6 kB)\n",
            "Collecting nvidia-cublas-cu12==12.4.5.8 (from torch)\n",
            "  Downloading nvidia_cublas_cu12-12.4.5.8-py3-none-manylinux2014_x86_64.whl.metadata (1.5 kB)\n",
            "Collecting nvidia-cufft-cu12==11.2.1.3 (from torch)\n",
            "  Downloading nvidia_cufft_cu12-11.2.1.3-py3-none-manylinux2014_x86_64.whl.metadata (1.5 kB)\n",
            "Collecting nvidia-curand-cu12==10.3.5.147 (from torch)\n",
            "  Downloading nvidia_curand_cu12-10.3.5.147-py3-none-manylinux2014_x86_64.whl.metadata (1.5 kB)\n",
            "Collecting nvidia-cusolver-cu12==11.6.1.9 (from torch)\n",
            "  Downloading nvidia_cusolver_cu12-11.6.1.9-py3-none-manylinux2014_x86_64.whl.metadata (1.6 kB)\n",
            "Collecting nvidia-cusparse-cu12==12.3.1.170 (from torch)\n",
            "  Downloading nvidia_cusparse_cu12-12.3.1.170-py3-none-manylinux2014_x86_64.whl.metadata (1.6 kB)\n",
            "Requirement already satisfied: nvidia-nccl-cu12==2.21.5 in /usr/local/lib/python3.11/dist-packages (from torch) (2.21.5)\n",
            "Requirement already satisfied: nvidia-nvtx-cu12==12.4.127 in /usr/local/lib/python3.11/dist-packages (from torch) (12.4.127)\n",
            "Collecting nvidia-nvjitlink-cu12==12.4.127 (from torch)\n",
            "  Downloading nvidia_nvjitlink_cu12-12.4.127-py3-none-manylinux2014_x86_64.whl.metadata (1.5 kB)\n",
            "Requirement already satisfied: triton==3.1.0 in /usr/local/lib/python3.11/dist-packages (from torch) (3.1.0)\n",
            "Requirement already satisfied: sympy==1.13.1 in /usr/local/lib/python3.11/dist-packages (from torch) (1.13.1)\n",
            "Requirement already satisfied: mpmath<1.4,>=1.1.0 in /usr/local/lib/python3.11/dist-packages (from sympy==1.13.1->torch) (1.3.0)\n",
            "Requirement already satisfied: numpy in /usr/local/lib/python3.11/dist-packages (from torchvision) (1.26.4)\n",
            "Requirement already satisfied: pillow!=8.3.*,>=5.3.0 in /usr/local/lib/python3.11/dist-packages (from torchvision) (11.1.0)\n",
            "Requirement already satisfied: MarkupSafe>=2.0 in /usr/local/lib/python3.11/dist-packages (from jinja2->torch) (3.0.2)\n",
            "Downloading nvidia_cublas_cu12-12.4.5.8-py3-none-manylinux2014_x86_64.whl (363.4 MB)\n",
            "\u001b[2K   \u001b[90m━━━━━━━━━━━━━━━━━━━━━━━━━━━━━━━━━━━━━━━━\u001b[0m \u001b[32m363.4/363.4 MB\u001b[0m \u001b[31m4.4 MB/s\u001b[0m eta \u001b[36m0:00:00\u001b[0m\n",
            "\u001b[?25hDownloading nvidia_cuda_cupti_cu12-12.4.127-py3-none-manylinux2014_x86_64.whl (13.8 MB)\n",
            "\u001b[2K   \u001b[90m━━━━━━━━━━━━━━━━━━━━━━━━━━━━━━━━━━━━━━━━\u001b[0m \u001b[32m13.8/13.8 MB\u001b[0m \u001b[31m78.6 MB/s\u001b[0m eta \u001b[36m0:00:00\u001b[0m\n",
            "\u001b[?25hDownloading nvidia_cuda_nvrtc_cu12-12.4.127-py3-none-manylinux2014_x86_64.whl (24.6 MB)\n",
            "\u001b[2K   \u001b[90m━━━━━━━━━━━━━━━━━━━━━━━━━━━━━━━━━━━━━━━━\u001b[0m \u001b[32m24.6/24.6 MB\u001b[0m \u001b[31m56.2 MB/s\u001b[0m eta \u001b[36m0:00:00\u001b[0m\n",
            "\u001b[?25hDownloading nvidia_cuda_runtime_cu12-12.4.127-py3-none-manylinux2014_x86_64.whl (883 kB)\n",
            "\u001b[2K   \u001b[90m━━━━━━━━━━━━━━━━━━━━━━━━━━━━━━━━━━━━━━━━\u001b[0m \u001b[32m883.7/883.7 kB\u001b[0m \u001b[31m36.7 MB/s\u001b[0m eta \u001b[36m0:00:00\u001b[0m\n",
            "\u001b[?25hDownloading nvidia_cudnn_cu12-9.1.0.70-py3-none-manylinux2014_x86_64.whl (664.8 MB)\n",
            "\u001b[2K   \u001b[90m━━━━━━━━━━━━━━━━━━━━━━━━━━━━━━━━━━━━━━━━\u001b[0m \u001b[32m664.8/664.8 MB\u001b[0m \u001b[31m3.2 MB/s\u001b[0m eta \u001b[36m0:00:00\u001b[0m\n",
            "\u001b[?25hDownloading nvidia_cufft_cu12-11.2.1.3-py3-none-manylinux2014_x86_64.whl (211.5 MB)\n",
            "\u001b[2K   \u001b[90m━━━━━━━━━━━━━━━━━━━━━━━━━━━━━━━━━━━━━━━━\u001b[0m \u001b[32m211.5/211.5 MB\u001b[0m \u001b[31m5.8 MB/s\u001b[0m eta \u001b[36m0:00:00\u001b[0m\n",
            "\u001b[?25hDownloading nvidia_curand_cu12-10.3.5.147-py3-none-manylinux2014_x86_64.whl (56.3 MB)\n",
            "\u001b[2K   \u001b[90m━━━━━━━━━━━━━━━━━━━━━━━━━━━━━━━━━━━━━━━━\u001b[0m \u001b[32m56.3/56.3 MB\u001b[0m \u001b[31m10.9 MB/s\u001b[0m eta \u001b[36m0:00:00\u001b[0m\n",
            "\u001b[?25hDownloading nvidia_cusolver_cu12-11.6.1.9-py3-none-manylinux2014_x86_64.whl (127.9 MB)\n",
            "\u001b[2K   \u001b[90m━━━━━━━━━━━━━━━━━━━━━━━━━━━━━━━━━━━━━━━━\u001b[0m \u001b[32m127.9/127.9 MB\u001b[0m \u001b[31m7.4 MB/s\u001b[0m eta \u001b[36m0:00:00\u001b[0m\n",
            "\u001b[?25hDownloading nvidia_cusparse_cu12-12.3.1.170-py3-none-manylinux2014_x86_64.whl (207.5 MB)\n",
            "\u001b[2K   \u001b[90m━━━━━━━━━━━━━━━━━━━━━━━━━━━━━━━━━━━━━━━━\u001b[0m \u001b[32m207.5/207.5 MB\u001b[0m \u001b[31m6.1 MB/s\u001b[0m eta \u001b[36m0:00:00\u001b[0m\n",
            "\u001b[?25hDownloading nvidia_nvjitlink_cu12-12.4.127-py3-none-manylinux2014_x86_64.whl (21.1 MB)\n",
            "\u001b[2K   \u001b[90m━━━━━━━━━━━━━━━━━━━━━━━━━━━━━━━━━━━━━━━━\u001b[0m \u001b[32m21.1/21.1 MB\u001b[0m \u001b[31m79.2 MB/s\u001b[0m eta \u001b[36m0:00:00\u001b[0m\n",
            "\u001b[?25hInstalling collected packages: nvidia-nvjitlink-cu12, nvidia-curand-cu12, nvidia-cufft-cu12, nvidia-cuda-runtime-cu12, nvidia-cuda-nvrtc-cu12, nvidia-cuda-cupti-cu12, nvidia-cublas-cu12, nvidia-cusparse-cu12, nvidia-cudnn-cu12, nvidia-cusolver-cu12\n",
            "  Attempting uninstall: nvidia-nvjitlink-cu12\n",
            "    Found existing installation: nvidia-nvjitlink-cu12 12.5.82\n",
            "    Uninstalling nvidia-nvjitlink-cu12-12.5.82:\n",
            "      Successfully uninstalled nvidia-nvjitlink-cu12-12.5.82\n",
            "  Attempting uninstall: nvidia-curand-cu12\n",
            "    Found existing installation: nvidia-curand-cu12 10.3.6.82\n",
            "    Uninstalling nvidia-curand-cu12-10.3.6.82:\n",
            "      Successfully uninstalled nvidia-curand-cu12-10.3.6.82\n",
            "  Attempting uninstall: nvidia-cufft-cu12\n",
            "    Found existing installation: nvidia-cufft-cu12 11.2.3.61\n",
            "    Uninstalling nvidia-cufft-cu12-11.2.3.61:\n",
            "      Successfully uninstalled nvidia-cufft-cu12-11.2.3.61\n",
            "  Attempting uninstall: nvidia-cuda-runtime-cu12\n",
            "    Found existing installation: nvidia-cuda-runtime-cu12 12.5.82\n",
            "    Uninstalling nvidia-cuda-runtime-cu12-12.5.82:\n",
            "      Successfully uninstalled nvidia-cuda-runtime-cu12-12.5.82\n",
            "  Attempting uninstall: nvidia-cuda-nvrtc-cu12\n",
            "    Found existing installation: nvidia-cuda-nvrtc-cu12 12.5.82\n",
            "    Uninstalling nvidia-cuda-nvrtc-cu12-12.5.82:\n",
            "      Successfully uninstalled nvidia-cuda-nvrtc-cu12-12.5.82\n",
            "  Attempting uninstall: nvidia-cuda-cupti-cu12\n",
            "    Found existing installation: nvidia-cuda-cupti-cu12 12.5.82\n",
            "    Uninstalling nvidia-cuda-cupti-cu12-12.5.82:\n",
            "      Successfully uninstalled nvidia-cuda-cupti-cu12-12.5.82\n",
            "  Attempting uninstall: nvidia-cublas-cu12\n",
            "    Found existing installation: nvidia-cublas-cu12 12.5.3.2\n",
            "    Uninstalling nvidia-cublas-cu12-12.5.3.2:\n",
            "      Successfully uninstalled nvidia-cublas-cu12-12.5.3.2\n",
            "  Attempting uninstall: nvidia-cusparse-cu12\n",
            "    Found existing installation: nvidia-cusparse-cu12 12.5.1.3\n",
            "    Uninstalling nvidia-cusparse-cu12-12.5.1.3:\n",
            "      Successfully uninstalled nvidia-cusparse-cu12-12.5.1.3\n",
            "  Attempting uninstall: nvidia-cudnn-cu12\n",
            "    Found existing installation: nvidia-cudnn-cu12 9.3.0.75\n",
            "    Uninstalling nvidia-cudnn-cu12-9.3.0.75:\n",
            "      Successfully uninstalled nvidia-cudnn-cu12-9.3.0.75\n",
            "  Attempting uninstall: nvidia-cusolver-cu12\n",
            "    Found existing installation: nvidia-cusolver-cu12 11.6.3.83\n",
            "    Uninstalling nvidia-cusolver-cu12-11.6.3.83:\n",
            "      Successfully uninstalled nvidia-cusolver-cu12-11.6.3.83\n",
            "Successfully installed nvidia-cublas-cu12-12.4.5.8 nvidia-cuda-cupti-cu12-12.4.127 nvidia-cuda-nvrtc-cu12-12.4.127 nvidia-cuda-runtime-cu12-12.4.127 nvidia-cudnn-cu12-9.1.0.70 nvidia-cufft-cu12-11.2.1.3 nvidia-curand-cu12-10.3.5.147 nvidia-cusolver-cu12-11.6.1.9 nvidia-cusparse-cu12-12.3.1.170 nvidia-nvjitlink-cu12-12.4.127\n"
          ]
        }
      ]
    },
    {
      "cell_type": "code",
      "source": [
        "!pip install pennylane"
      ],
      "metadata": {
        "colab": {
          "base_uri": "https://localhost:8080/"
        },
        "id": "erHWQrOY6QMd",
        "outputId": "b2a40a9a-91de-4760-a7fa-f8f5975adf15"
      },
      "execution_count": null,
      "outputs": [
        {
          "output_type": "stream",
          "name": "stdout",
          "text": [
            "Collecting pennylane\n",
            "  Using cached PennyLane-0.40.0-py3-none-any.whl.metadata (10 kB)\n",
            "Requirement already satisfied: numpy<2.1 in /usr/local/lib/python3.11/dist-packages (from pennylane) (1.26.4)\n",
            "Requirement already satisfied: scipy in /usr/local/lib/python3.11/dist-packages (from pennylane) (1.13.1)\n",
            "Requirement already satisfied: networkx in /usr/local/lib/python3.11/dist-packages (from pennylane) (3.4.2)\n",
            "Collecting rustworkx>=0.14.0 (from pennylane)\n",
            "  Using cached rustworkx-0.16.0-cp39-abi3-manylinux_2_17_x86_64.manylinux2014_x86_64.whl.metadata (10 kB)\n",
            "Requirement already satisfied: autograd in /usr/local/lib/python3.11/dist-packages (from pennylane) (1.7.0)\n",
            "Collecting tomlkit (from pennylane)\n",
            "  Using cached tomlkit-0.13.2-py3-none-any.whl.metadata (2.7 kB)\n",
            "Collecting appdirs (from pennylane)\n",
            "  Using cached appdirs-1.4.4-py2.py3-none-any.whl.metadata (9.0 kB)\n",
            "Collecting autoray>=0.6.11 (from pennylane)\n",
            "  Using cached autoray-0.7.0-py3-none-any.whl.metadata (5.8 kB)\n",
            "Requirement already satisfied: cachetools in /usr/local/lib/python3.11/dist-packages (from pennylane) (5.5.2)\n",
            "Collecting pennylane-lightning>=0.40 (from pennylane)\n",
            "  Using cached PennyLane_Lightning-0.40.0-cp311-cp311-manylinux_2_28_x86_64.whl.metadata (27 kB)\n",
            "Requirement already satisfied: requests in /usr/local/lib/python3.11/dist-packages (from pennylane) (2.32.3)\n",
            "Requirement already satisfied: typing-extensions in /usr/local/lib/python3.11/dist-packages (from pennylane) (4.12.2)\n",
            "Requirement already satisfied: packaging in /usr/local/lib/python3.11/dist-packages (from pennylane) (24.2)\n",
            "Collecting diastatic-malt (from pennylane)\n",
            "  Using cached diastatic_malt-2.15.2-py3-none-any.whl.metadata (2.6 kB)\n",
            "Collecting scipy-openblas32>=0.3.26 (from pennylane-lightning>=0.40->pennylane)\n",
            "  Using cached scipy_openblas32-0.3.29.0.0-py3-none-manylinux_2_17_x86_64.manylinux2014_x86_64.whl.metadata (56 kB)\n",
            "Requirement already satisfied: astunparse in /usr/local/lib/python3.11/dist-packages (from diastatic-malt->pennylane) (1.6.3)\n",
            "Requirement already satisfied: gast in /usr/local/lib/python3.11/dist-packages (from diastatic-malt->pennylane) (0.6.0)\n",
            "Requirement already satisfied: termcolor in /usr/local/lib/python3.11/dist-packages (from diastatic-malt->pennylane) (2.5.0)\n",
            "Requirement already satisfied: charset-normalizer<4,>=2 in /usr/local/lib/python3.11/dist-packages (from requests->pennylane) (3.4.1)\n",
            "Requirement already satisfied: idna<4,>=2.5 in /usr/local/lib/python3.11/dist-packages (from requests->pennylane) (3.10)\n",
            "Requirement already satisfied: urllib3<3,>=1.21.1 in /usr/local/lib/python3.11/dist-packages (from requests->pennylane) (2.3.0)\n",
            "Requirement already satisfied: certifi>=2017.4.17 in /usr/local/lib/python3.11/dist-packages (from requests->pennylane) (2025.1.31)\n",
            "Requirement already satisfied: wheel<1.0,>=0.23.0 in /usr/local/lib/python3.11/dist-packages (from astunparse->diastatic-malt->pennylane) (0.45.1)\n",
            "Requirement already satisfied: six<2.0,>=1.6.1 in /usr/local/lib/python3.11/dist-packages (from astunparse->diastatic-malt->pennylane) (1.17.0)\n",
            "Using cached PennyLane-0.40.0-py3-none-any.whl (2.0 MB)\n",
            "Using cached autoray-0.7.0-py3-none-any.whl (930 kB)\n",
            "Using cached PennyLane_Lightning-0.40.0-cp311-cp311-manylinux_2_28_x86_64.whl (2.4 MB)\n",
            "Using cached rustworkx-0.16.0-cp39-abi3-manylinux_2_17_x86_64.manylinux2014_x86_64.whl (2.1 MB)\n",
            "Using cached appdirs-1.4.4-py2.py3-none-any.whl (9.6 kB)\n",
            "Using cached diastatic_malt-2.15.2-py3-none-any.whl (167 kB)\n",
            "Using cached tomlkit-0.13.2-py3-none-any.whl (37 kB)\n",
            "Using cached scipy_openblas32-0.3.29.0.0-py3-none-manylinux_2_17_x86_64.manylinux2014_x86_64.whl (8.6 MB)\n",
            "Installing collected packages: appdirs, tomlkit, scipy-openblas32, rustworkx, autoray, diastatic-malt, pennylane-lightning, pennylane\n",
            "Successfully installed appdirs-1.4.4 autoray-0.7.0 diastatic-malt-2.15.2 pennylane-0.40.0 pennylane-lightning-0.40.0 rustworkx-0.16.0 scipy-openblas32-0.3.29.0.0 tomlkit-0.13.2\n"
          ]
        }
      ]
    },
    {
      "cell_type": "code",
      "source": [
        "import pennylane as qml\n",
        "from pennylane.optimize import AdamOptimizer, GradientDescentOptimizer\n",
        "import matplotlib.pyplot as plt\n",
        "import math\n",
        "from sklearn.metrics import accuracy_score\n",
        "\n",
        "import torch\n",
        "import torch.nn as nn\n",
        "import torch.nn.functional as F\n",
        "import torch.optim as optim\n",
        "import argparse\n",
        "\n",
        "from scipy import misc\n",
        "from torch.optim.lr_scheduler import CosineAnnealingLR\n",
        "from torchvision import transforms\n",
        "from torchvision import datasets\n",
        "from torch.utils.data import DataLoader\n",
        "import os\n",
        "from sklearn.decomposition import PCA\n",
        "import numpy as np\n",
        "import torchvision\n",
        "from skimage import io\n",
        "import torchvision.datasets.mnist as mnist\n",
        "from PIL import Image"
      ],
      "metadata": {
        "id": "Xj7tqViY7CB-"
      },
      "execution_count": null,
      "outputs": []
    },
    {
      "cell_type": "code",
      "source": [
        "BATCH_SIZE = 32\n",
        "epochs = 1\n",
        "lr = 1e-3\n",
        "w_decay = 1e-4\n",
        "\n",
        "device = torch.device('cuda' if torch.cuda.is_available() else 'cpu')"
      ],
      "metadata": {
        "id": "gdDcrrNm7rUE"
      },
      "execution_count": null,
      "outputs": []
    },
    {
      "cell_type": "code",
      "source": [
        "def data_prepare(data_label, DOWNLOAD_MNIST=True):\n",
        "    # Mnist digits dataset\n",
        "    if not (os.path.exists(\"./dataset/\")) or not os.listdir(\"./dataset/\"):\n",
        "        DOWNLOAD_MNIST = True\n",
        "\n",
        "    train_data = torchvision.datasets.MNIST(\n",
        "        root=\"./dataset/\",\n",
        "        train=True,  # this is training data\n",
        "        transform=torchvision.transforms.ToTensor(),  # Converts a PIL.Image or numpy.ndarray to\n",
        "        download=DOWNLOAD_MNIST)\n",
        "\n",
        "    root = \"./dataset/MNIST/raw\"\n",
        "    train_set = (\n",
        "        mnist.read_image_file(os.path.join(root, 'train-images-idx3-ubyte')),\n",
        "        mnist.read_label_file(os.path.join(root, 'train-labels-idx1-ubyte')))\n",
        "\n",
        "    data = []\n",
        "    for i, (img, label) in enumerate(zip(train_set[0], train_set[1])):\n",
        "        if label == data_label:\n",
        "            data.append(img.numpy()/255)\n",
        "    return data\n",
        "\n",
        "\n",
        "data = np.array(data_prepare(data_label=0))\n",
        "data = data.reshape(data.shape[0], data.shape[1]*data.shape[2])"
      ],
      "metadata": {
        "id": "9_72ErTk_5kn"
      },
      "execution_count": null,
      "outputs": []
    },
    {
      "cell_type": "code",
      "source": [
        "print(data.shape)\n",
        "print(data[0].shape)\n",
        "# 28 X 28 Image size = 784 pixels\n",
        "# Total 5923 Images"
      ],
      "metadata": {
        "colab": {
          "base_uri": "https://localhost:8080/"
        },
        "id": "05UgO_XKCi79",
        "outputId": "2de76ae0-d8f9-433c-adfe-199fb0e65903"
      },
      "execution_count": null,
      "outputs": [
        {
          "output_type": "stream",
          "name": "stdout",
          "text": [
            "(5923, 784)\n",
            "(784,)\n"
          ]
        }
      ]
    },
    {
      "cell_type": "code",
      "source": [
        "########### PCA Section #############\n",
        "k=2\n",
        "pca = PCA(n_components=k) # k represents the no. of return\n",
        "pca.fit(data)\n",
        "pca_data = pca.transform(data)\n",
        "t_pca_data = pca_data.copy()\n",
        "pca_descaler = [[] for _ in range(k)]\n",
        "\n",
        "for i in range(k):\n",
        "  if pca_data[:, i].min() < 0:\n",
        "    pca_descaler[i].append(pca_data[:, i].min())\n",
        "    pca_data[:, i] += np.abs(pca_data[:,i].min())\n",
        "  else:\n",
        "    pca_descaler[i].append(pca_data[:, i].min())\n",
        "    pca_data[:, i] -= pca_data[:,i].min()\n",
        "  pca_descaler[i].append(pca_data[:, i].max())\n",
        "  pca_data[:,i] /= pca_data[:, i].max()\n",
        "\n",
        "pca_data_rot = np.arcsin(np.sqrt(pca_data))\n"
      ],
      "metadata": {
        "id": "tDW-04v9BhVZ"
      },
      "execution_count": null,
      "outputs": []
    },
    {
      "cell_type": "code",
      "source": [
        "# ------------------------------------------------------------------\n",
        "# Define a function that can take in PCA'ed data and return an image\n",
        "# -------------------------------------------------------------------\n",
        "def descale_points(d_point, scales=pca_descaler, tfrm=pca):\n",
        "  for col in range(d_point.shape[1]):\n",
        "    d_point[:, col] *= scales[col][1]\n",
        "    d_point[:, col] +=scales[col][0]\n",
        "\n",
        "  reconstruction = tfrm.inverse_transform(d_point)\n",
        "  return reconstruction"
      ],
      "metadata": {
        "id": "EQ_1vc6xFUPI"
      },
      "execution_count": null,
      "outputs": []
    },
    {
      "cell_type": "code",
      "source": [
        "# Encoder\n",
        "n_qubits = 5\n",
        "dev = qml.device(\"default.qubit\", wires=n_qubits)\n",
        "@qml.qnode(dev)\n",
        "def qnode(inputs, w000, w001, w008, w009, w016, w017, w200, w201, w208, w209, w216, w217):\n",
        "\n",
        "  qml.RY(inputs[0], wires=1)\n",
        "  qml.RY(inputs[1], wires=2)\n",
        "\n",
        "  qml.RY(inputs[2], wires=3)\n",
        "  qml.RY(inputs[3], wires=4)\n",
        "\n",
        "  qml.RX(w000, wires=1)\n",
        "  qml.RX(w001, wires=2)\n",
        "\n",
        "  qml.RY(w008, wires=1)\n",
        "  qml.RY(w009, wires=2)\n",
        "\n",
        "  qml.RZ(w016, wires=1)\n",
        "  qml.RZ(w017, wires=2)\n",
        "  qml.CNOT(wires=[1, 2])\n",
        "  qml.CNOT(wires=[2, 1])\n",
        "\n",
        "  qml.RX(w200, wires=1)\n",
        "  qml.RX(w201, wires=2)\n",
        "\n",
        "  qml.RY(w208, wires=1)\n",
        "  qml.RY(w209, wires=2)\n",
        "\n",
        "  qml.RZ(w216, wires=1)\n",
        "  qml.RZ(w217, wires=2)\n",
        "  qml.CNOT(wires=[1,2])\n",
        "  qml.CNOT(wires=[2,1])\n",
        "\n",
        "  # Swap test\n",
        "  qml.Hadamard(0)\n",
        "  qml.CSWAP(wires=[0, 1, 3])\n",
        "  qml.CSWAP(wires=[0, 2, 4])\n",
        "  qml.Hadamard(0)\n",
        "\n",
        "  return qml.probs(wires=[0])\n",
        "\n",
        "weight_shapes = {\"w000\": 1, \"w001\": 1, \"w008\": 1, \"w009\": 1, \"w016\": 1, \"w017\": 1, \"w200\": 1, \"w201\": 1, \"w208\": 1, \"w209\": 1, \"w216\": 1, \"w217\": 1}\n"
      ],
      "metadata": {
        "id": "sgLCPn6ia4ua"
      },
      "execution_count": null,
      "outputs": []
    },
    {
      "cell_type": "code",
      "source": [
        "class MNIST(nn.Module):\n",
        "  def __init__(self):\n",
        "    super().__init__()\n",
        "    self.qlayer = qml.qnn.TorchLayer(qnode, weight_shapes)\n",
        "\n",
        "  def forward(self, x):\n",
        "    out = self.qlayer(x)\n",
        "    return out\n",
        "\n",
        "model = MNIST().to(device)"
      ],
      "metadata": {
        "id": "WOJP5B2dc3J8"
      },
      "execution_count": null,
      "outputs": []
    },
    {
      "cell_type": "code",
      "source": [
        "class Logloss(nn.Module):\n",
        "  def __init__(self):\n",
        "    super(Logloss, self).__init__()\n",
        "  def forward(self, output):\n",
        "    return torch.mean(-torch.log(output[0]))\n",
        "\n",
        "def train(model, device, optimizer, epoch):\n",
        "  data = []\n",
        "  running_loss = 0.0\n",
        "  output_sum = 0.0\n",
        "  loss_sum = 0.0\n",
        "  for i in range(len(pca_data)):\n",
        "    noise = torch.empty(2, dtype=torch.float32).uniform_(0.3, 0.9).to(device)\n",
        "    inputs = torch.Tensor(pca_data_rot[i]).to(device)\n",
        "    inputs = torch.cat((noise, inputs), 0)\n",
        "    optimizer.zero_grad()\n",
        "    outputs = model(inputs)\n",
        "    loss_function = Logloss()\n",
        "    loss = loss_function(outputs)\n",
        "    loss.backward()\n",
        "    optimizer.step()\n",
        "\n",
        "    loss_sum += loss.item()\n",
        "    running_loss += loss.item()\n",
        "    output_sum += outputs\n",
        "\n",
        "    if (i+1) % 100 == 0:\n",
        "      print('epoch: %d, loss: %.3f' % (epoch, running_loss / 100))\n",
        "      running_loss = 0.0\n",
        "  this_epoch_loss = loss_sum/len(pca_data)\n",
        "  this_epoch_output = output_sum/len(pca_data)\n",
        "  return this_epoch_loss, this_epoch_output\n",
        "\n"
      ],
      "metadata": {
        "id": "01h4H4S2d9Xd"
      },
      "execution_count": null,
      "outputs": []
    },
    {
      "cell_type": "code",
      "source": [
        "optimizer = optim.Adam(model.parameters(), lr=lr)\n",
        "scheduler = CosineAnnealingLR(optimizer, T_max=30)\n",
        "highest_acc = 0\n",
        "loss_list = []\n",
        "output_list = []\n",
        "test_output = []\n",
        "for epoch in range(epochs):\n",
        "    a, b = train(model, device, optimizer, epoch)\n",
        "    loss_list.append(a)\n",
        "    output_list.append(b)\n",
        "    torch.save(model.state_dict(), './2gan_1.pth')\n",
        "    # torch.save(model.state_dict(), './hh.pth')\n",
        "    print(\"loss list is:\", loss_list)\n",
        "    print(\"output list is:\",output_list)"
      ],
      "metadata": {
        "colab": {
          "base_uri": "https://localhost:8080/"
        },
        "id": "SMhxLab5hk_x",
        "outputId": "1affbb89-c3fb-4351-a8ad-f60678319fdd"
      },
      "execution_count": null,
      "outputs": [
        {
          "output_type": "stream",
          "name": "stdout",
          "text": [
            "epoch: 0, loss: 0.456\n",
            "epoch: 0, loss: 0.353\n",
            "epoch: 0, loss: 0.254\n",
            "epoch: 0, loss: 0.199\n",
            "epoch: 0, loss: 0.139\n",
            "epoch: 0, loss: 0.115\n",
            "epoch: 0, loss: 0.089\n",
            "epoch: 0, loss: 0.068\n",
            "epoch: 0, loss: 0.055\n",
            "epoch: 0, loss: 0.045\n",
            "epoch: 0, loss: 0.041\n",
            "epoch: 0, loss: 0.031\n",
            "epoch: 0, loss: 0.032\n",
            "epoch: 0, loss: 0.031\n",
            "epoch: 0, loss: 0.027\n",
            "epoch: 0, loss: 0.025\n",
            "epoch: 0, loss: 0.026\n",
            "epoch: 0, loss: 0.024\n",
            "epoch: 0, loss: 0.023\n",
            "epoch: 0, loss: 0.025\n",
            "epoch: 0, loss: 0.024\n",
            "epoch: 0, loss: 0.024\n",
            "epoch: 0, loss: 0.028\n",
            "epoch: 0, loss: 0.023\n",
            "epoch: 0, loss: 0.024\n",
            "epoch: 0, loss: 0.023\n",
            "epoch: 0, loss: 0.020\n",
            "epoch: 0, loss: 0.022\n",
            "epoch: 0, loss: 0.023\n",
            "epoch: 0, loss: 0.022\n",
            "epoch: 0, loss: 0.024\n",
            "epoch: 0, loss: 0.025\n",
            "epoch: 0, loss: 0.022\n",
            "epoch: 0, loss: 0.022\n",
            "epoch: 0, loss: 0.027\n",
            "epoch: 0, loss: 0.021\n",
            "epoch: 0, loss: 0.023\n",
            "epoch: 0, loss: 0.023\n",
            "epoch: 0, loss: 0.025\n",
            "epoch: 0, loss: 0.024\n",
            "epoch: 0, loss: 0.025\n",
            "epoch: 0, loss: 0.025\n",
            "epoch: 0, loss: 0.024\n",
            "epoch: 0, loss: 0.023\n",
            "epoch: 0, loss: 0.022\n",
            "epoch: 0, loss: 0.020\n",
            "epoch: 0, loss: 0.024\n",
            "epoch: 0, loss: 0.022\n",
            "epoch: 0, loss: 0.025\n",
            "epoch: 0, loss: 0.023\n",
            "epoch: 0, loss: 0.026\n",
            "epoch: 0, loss: 0.023\n",
            "epoch: 0, loss: 0.023\n",
            "epoch: 0, loss: 0.022\n",
            "epoch: 0, loss: 0.026\n",
            "epoch: 0, loss: 0.020\n",
            "epoch: 0, loss: 0.026\n",
            "epoch: 0, loss: 0.026\n",
            "epoch: 0, loss: 0.020\n",
            "loss list is: [0.05028300304821085]\n",
            "output list is: [tensor([0.9538, 0.0462], grad_fn=<DivBackward0>)]\n"
          ]
        }
      ]
    },
    {
      "cell_type": "code",
      "source": [
        "n_qubits = 2\n",
        "dev = qml.device(\"default.qubit\", wires=n_qubits)\n",
        "@qml.qnode(dev)\n",
        "def qnode_gen(inputs, w000, w001, w008, w009, w016, w017, w200, w201, w208, w209, w216, w217):\n",
        "\n",
        "    qml.RY(inputs[0], wires=0)\n",
        "    qml.RY(inputs[1], wires=1)\n",
        "\n",
        "    # generating fake feature map\n",
        "    qml.RX(w000, wires=0)\n",
        "    qml.RX(w001, wires=1)\n",
        "\n",
        "    qml.RY(w008, wires=0)\n",
        "    qml.RY(w009, wires=1)\n",
        "\n",
        "    qml.RZ(w016, wires=0)\n",
        "    qml.RZ(w017, wires=1)\n",
        "    qml.CNOT(wires=[0,1])\n",
        "    qml.CNOT(wires=[1,0])\n",
        "\n",
        "    qml.RX(w200, wires=0)\n",
        "    qml.RX(w201, wires=1)\n",
        "\n",
        "    qml.RY(w208, wires=0)\n",
        "    qml.RY(w209, wires=1)\n",
        "\n",
        "    qml.RZ(w216, wires=0)\n",
        "    qml.RZ(w217, wires=1)\n",
        "    qml.CNOT(wires=[0,1])\n",
        "    qml.CNOT(wires=[1,0])\n",
        "\n",
        "\n",
        "    return [qml.expval(qml.PauliX(0)), qml.expval(qml.PauliX(1))]\n",
        "\n",
        "weight_shapes = {\"w000\": 1, \"w001\": 1, \"w008\": 1, \"w009\": 1, \"w016\": 1, \"w017\": 1, \"w200\": 1, \"w201\": 1, \"w208\": 1, \"w209\": 1, \"w216\": 1, \"w217\": 1}\n",
        "\n",
        "# ----------------------------------------------------------------------model-----------------------------------------------------------------------------------\n",
        "class MNIST_GEN(nn.Module):\n",
        "    def __init__(self):\n",
        "        super().__init__()\n",
        "        self.qlayer = qml.qnn.TorchLayer(qnode_gen, weight_shapes)\n",
        "\n",
        "    def forward(self, x):\n",
        "        out = self.qlayer(x)\n",
        "        return out\n",
        "\n",
        "model_gen = MNIST_GEN().to(device)\n",
        "\n",
        "model_gen.load_state_dict(torch.load('./2gan_1.pth'))\n",
        "\n",
        "def test(model, device):\n",
        "    inputs = torch.empty((16, 2), dtype=torch.float32).uniform_(0.3,0.9)\n",
        "\n",
        "    outputs = torch.rand((16, 2), device=device)\n",
        "    for i in range(16):\n",
        "        outputs[i] = model(inputs[i])*model(inputs[i])\n",
        "    return outputs\n",
        "\n",
        "\n",
        "output = test(model_gen, device).detach().numpy()\n",
        "output = descale_points(output)\n",
        "\n",
        "\n",
        "\n",
        "\n",
        "new_info = output.reshape(output.shape[0],28,28)\n",
        "print(f\"Epoch {epoch} Generated Images\")\n",
        "for i in range(new_info.shape[0]):\n",
        "    plt.subplot(4, 4, i+1)\n",
        "    plt.imshow(new_info[i, :, :], cmap='gray')\n",
        "    plt.axis('off')\n",
        "plt.savefig(\"qgan_-epoch-mnist-{}-generated-images\".format(epoch))\n",
        "plt.show()\n"
      ],
      "metadata": {
        "colab": {
          "base_uri": "https://localhost:8080/",
          "height": 478
        },
        "id": "xL54UHYnhvx9",
        "outputId": "79fef9c6-56ea-4f74-ffd9-ed339354029c"
      },
      "execution_count": null,
      "outputs": [
        {
          "output_type": "stream",
          "name": "stderr",
          "text": [
            "<ipython-input-33-c59e247b5d7b>:49: FutureWarning: You are using `torch.load` with `weights_only=False` (the current default value), which uses the default pickle module implicitly. It is possible to construct malicious pickle data which will execute arbitrary code during unpickling (See https://github.com/pytorch/pytorch/blob/main/SECURITY.md#untrusted-models for more details). In a future release, the default value for `weights_only` will be flipped to `True`. This limits the functions that could be executed during unpickling. Arbitrary objects will no longer be allowed to be loaded via this mode unless they are explicitly allowlisted by the user via `torch.serialization.add_safe_globals`. We recommend you start setting `weights_only=True` for any use case where you don't have full control of the loaded file. Please open an issue on GitHub for any issues related to this experimental feature.\n",
            "  model_gen.load_state_dict(torch.load('./2gan_1.pth'))\n"
          ]
        },
        {
          "output_type": "stream",
          "name": "stdout",
          "text": [
            "Epoch 0 Generated Images\n"
          ]
        },
        {
          "output_type": "display_data",
          "data": {
            "text/plain": [
              "<Figure size 640x480 with 16 Axes>"
            ],
            "image/png": "[encoded data removed]"
          },
          "metadata": {}
        }
      ]
    },
    {
      "cell_type": "code",
      "source": [],
      "metadata": {
        "id": "CZ_EfNbAjron"
      },
      "execution_count": null,
      "outputs": []
    }
  ]
}